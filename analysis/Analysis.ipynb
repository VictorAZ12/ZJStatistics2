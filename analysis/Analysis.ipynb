{
 "cells": [
  {
   "cell_type": "markdown",
   "id": "e23c644b",
   "metadata": {},
   "source": [
    "# A-SOUL直播观众数据分析\n",
    "## 1. 介绍\n",
    "本Jupyter Notebok旨在对提取出来的用户弹幕数据进行统计分析，并制作数据可视化。\n",
    "## 2. 数据导入与预处理\n",
    "### 2.1 原始数据导入"
   ]
  },
  {
   "cell_type": "code",
   "execution_count": 21,
   "id": "1e64dc9d",
   "metadata": {},
   "outputs": [],
   "source": [
    "import json\n",
    "import os\n",
    "with open(\"./output.txt\") as f:\n",
    "    data = json.load(f)"
   ]
  },
  {
   "cell_type": "markdown",
   "id": "614ad325",
   "metadata": {},
   "source": [
    "### 2.2 数据预处理\n",
    "将json格式的数据转换为pandas dataframe，并输出为csv文件。"
   ]
  },
  {
   "cell_type": "code",
   "execution_count": 22,
   "id": "80fa545e",
   "metadata": {},
   "outputs": [],
   "source": [
    "import numpy as np\n",
    "import pandas as pd\n",
    "import matplotlib.pyplot as plt"
   ]
  },
  {
   "cell_type": "code",
   "execution_count": 23,
   "id": "0dfee198",
   "metadata": {},
   "outputs": [],
   "source": [
    "df = pd.DataFrame(data).transpose()\n",
    "df['uid'] = df.index\n",
    "df = df[['uid', 'first_seen', 'last_seen', 'stream_count', 'comment_count']]\n",
    "df['first_seen'] = pd.to_datetime(df['first_seen'], format=\"%Y.%m.%d\")\n",
    "df['last_seen'] = pd.to_datetime(df['last_seen'], format=\"%Y.%m.%d\")"
   ]
  },
  {
   "cell_type": "code",
   "execution_count": null,
   "id": "2b37c288",
   "metadata": {},
   "outputs": [],
   "source": []
  },
  {
   "cell_type": "markdown",
   "id": "5b016a7e",
   "metadata": {},
   "source": [
    "## 3. 数据分析与可视化\n",
    "A-SOUL观众的划分依据是什么？有人会说是看过直播就是A-SOUL观众，有人会说看很多场直播、发很多弹幕乃至打了米才算A-SOUL观众。而本次分析中使用的依据是：看过10场以上A-SOUL直播。该标准来自A-SOUL在2023年7月BW线下活动活动时提出的一个问题“看过10场A-SOUL直播的观众请举手”。\n",
    "基于这一标准，保留下来的“A-SOUL观众”的标准是：stream_count >= 10。由于stream_count仅在某uid在某场直播有过至少1条被记录下的弹幕时才会为这一uid加1，因此这一标准会筛选掉以下类型的A-SOUL粉丝：\n",
    "- 不看A-SOUL直播的粉丝\n",
    "- 看A-SOUL直播却不发弹幕的粉丝\n",
    "- 看A-SOUL直播少于10场的粉丝\n",
    "- 看A-SOUL直播场数多于10场，但被记录到有弹幕的场次少于10场\n",
    "\n",
    "对于最后一种粉丝，应当注意到：看A-SOUL直播足够多（远大于10场）的粉丝即使有少数直播内发的弹幕没有被记录到，累积的stream_count也会超过10。所以可以认为这一标准作为筛选标准的偏差是可以被接受的。"
   ]
  },
  {
   "cell_type": "code",
   "execution_count": 24,
   "id": "eca1c21c",
   "metadata": {},
   "outputs": [
    {
     "data": {
      "text/html": [
       "<div>\n",
       "<style scoped>\n",
       "    .dataframe tbody tr th:only-of-type {\n",
       "        vertical-align: middle;\n",
       "    }\n",
       "\n",
       "    .dataframe tbody tr th {\n",
       "        vertical-align: top;\n",
       "    }\n",
       "\n",
       "    .dataframe thead th {\n",
       "        text-align: right;\n",
       "    }\n",
       "</style>\n",
       "<table border=\"1\" class=\"dataframe\">\n",
       "  <thead>\n",
       "    <tr style=\"text-align: right;\">\n",
       "      <th></th>\n",
       "      <th>uid</th>\n",
       "      <th>first_seen</th>\n",
       "      <th>last_seen</th>\n",
       "      <th>stream_count</th>\n",
       "      <th>comment_count</th>\n",
       "    </tr>\n",
       "  </thead>\n",
       "  <tbody>\n",
       "    <tr>\n",
       "      <th>347819072</th>\n",
       "      <td>347819072</td>\n",
       "      <td>2023-06-07</td>\n",
       "      <td>2023-07-06</td>\n",
       "      <td>21</td>\n",
       "      <td>1214</td>\n",
       "    </tr>\n",
       "    <tr>\n",
       "      <th>26676219</th>\n",
       "      <td>26676219</td>\n",
       "      <td>2023-06-07</td>\n",
       "      <td>2023-06-28</td>\n",
       "      <td>10</td>\n",
       "      <td>31</td>\n",
       "    </tr>\n",
       "    <tr>\n",
       "      <th>26284012</th>\n",
       "      <td>26284012</td>\n",
       "      <td>2023-06-07</td>\n",
       "      <td>2023-07-06</td>\n",
       "      <td>21</td>\n",
       "      <td>9575</td>\n",
       "    </tr>\n",
       "    <tr>\n",
       "      <th>515106418</th>\n",
       "      <td>515106418</td>\n",
       "      <td>2023-06-07</td>\n",
       "      <td>2023-07-06</td>\n",
       "      <td>18</td>\n",
       "      <td>1326</td>\n",
       "    </tr>\n",
       "    <tr>\n",
       "      <th>51784147</th>\n",
       "      <td>51784147</td>\n",
       "      <td>2023-06-07</td>\n",
       "      <td>2023-07-05</td>\n",
       "      <td>14</td>\n",
       "      <td>3078</td>\n",
       "    </tr>\n",
       "    <tr>\n",
       "      <th>...</th>\n",
       "      <td>...</td>\n",
       "      <td>...</td>\n",
       "      <td>...</td>\n",
       "      <td>...</td>\n",
       "      <td>...</td>\n",
       "    </tr>\n",
       "    <tr>\n",
       "      <th>28460416</th>\n",
       "      <td>28460416</td>\n",
       "      <td>2023-06-11</td>\n",
       "      <td>2023-06-30</td>\n",
       "      <td>10</td>\n",
       "      <td>18</td>\n",
       "    </tr>\n",
       "    <tr>\n",
       "      <th>1572620492</th>\n",
       "      <td>1572620492</td>\n",
       "      <td>2023-06-11</td>\n",
       "      <td>2023-06-30</td>\n",
       "      <td>10</td>\n",
       "      <td>73</td>\n",
       "    </tr>\n",
       "    <tr>\n",
       "      <th>47425803</th>\n",
       "      <td>47425803</td>\n",
       "      <td>2023-06-14</td>\n",
       "      <td>2023-06-30</td>\n",
       "      <td>12</td>\n",
       "      <td>54</td>\n",
       "    </tr>\n",
       "    <tr>\n",
       "      <th>24840588</th>\n",
       "      <td>24840588</td>\n",
       "      <td>2023-06-14</td>\n",
       "      <td>2023-06-30</td>\n",
       "      <td>10</td>\n",
       "      <td>16</td>\n",
       "    </tr>\n",
       "    <tr>\n",
       "      <th>77061095</th>\n",
       "      <td>77061095</td>\n",
       "      <td>2023-06-14</td>\n",
       "      <td>2023-06-30</td>\n",
       "      <td>10</td>\n",
       "      <td>57</td>\n",
       "    </tr>\n",
       "  </tbody>\n",
       "</table>\n",
       "<p>3497 rows × 5 columns</p>\n",
       "</div>"
      ],
      "text/plain": [
       "                   uid first_seen  last_seen stream_count comment_count\n",
       "347819072    347819072 2023-06-07 2023-07-06           21          1214\n",
       "26676219      26676219 2023-06-07 2023-06-28           10            31\n",
       "26284012      26284012 2023-06-07 2023-07-06           21          9575\n",
       "515106418    515106418 2023-06-07 2023-07-06           18          1326\n",
       "51784147      51784147 2023-06-07 2023-07-05           14          3078\n",
       "...                ...        ...        ...          ...           ...\n",
       "28460416      28460416 2023-06-11 2023-06-30           10            18\n",
       "1572620492  1572620492 2023-06-11 2023-06-30           10            73\n",
       "47425803      47425803 2023-06-14 2023-06-30           12            54\n",
       "24840588      24840588 2023-06-14 2023-06-30           10            16\n",
       "77061095      77061095 2023-06-14 2023-06-30           10            57\n",
       "\n",
       "[3497 rows x 5 columns]"
      ]
     },
     "execution_count": 24,
     "metadata": {},
     "output_type": "execute_result"
    }
   ],
   "source": [
    "audience = df[df['stream_count']>=10]\n",
    "audience"
   ]
  },
  {
   "cell_type": "markdown",
   "id": "62b4c13b",
   "metadata": {},
   "source": [
    "在去除掉看A-SOUL直播少于10场的UID后，还剩余120350个UID。以下数据分析过程中如无特殊声明，\"A-SOUL观众\"等类似词汇默认指代这一部分B站用户。\n",
    "#### 3.1 A-SOUL观众整体分析\n",
    "##### 3.1.1 A-SOUL观众 入坑时间分析\n",
    "入坑时间在这里指的是发出第一条弹幕的时间，即first_seen一列。对这一列进行可视化与统计分析："
   ]
  },
  {
   "cell_type": "code",
   "execution_count": 25,
   "id": "f4adc670",
   "metadata": {},
   "outputs": [],
   "source": [
    "first_seen_months = []\n",
    "for first_seen_month in audience['first_seen']:\n",
    "    first_seen_months.append(first_seen_month.strftime('%Y-%m'))"
   ]
  },
  {
   "cell_type": "code",
   "execution_count": 26,
   "id": "77ae9c9d",
   "metadata": {},
   "outputs": [
    {
     "data": {
      "image/png": "[encoded data removed]",
      "text/plain": [
       "<Figure size 640x480 with 1 Axes>"
      ]
     },
     "metadata": {},
     "output_type": "display_data"
    }
   ],
   "source": [
    "from collections import Counter\n",
    "\n",
    "def create_bar_plot(data_list, title, xlabel, ylabel):\n",
    "    # Count the occurrences of each value in the list\n",
    "    occurrences = dict(Counter(data_list))\n",
    "    # Sort keys\n",
    "    dicKeys = list(occurrences.keys())\n",
    "    dicKeys.sort()\n",
    "    sorted_occurrences = {i: occurrences[i] for i in dicKeys}\n",
    "\n",
    "    # Get the unique values and their corresponding occurrences\n",
    "    unique_values = list(sorted_occurrences.keys())\n",
    "    occurrences_count = list(sorted_occurrences.values())\n",
    "    \n",
    "    # Create a bar plot\n",
    "    plt.bar(unique_values, occurrences_count)\n",
    "\n",
    "    # Add labels and title\n",
    "    plt.xlabel(xlabel)\n",
    "    plt.ylabel(ylabel)\n",
    "    plt.title(title)\n",
    "    plt.xticks(rotation = 90)\n",
    "    # Show the plot\n",
    "    plt.show()\n",
    "create_bar_plot(first_seen_months, \"A-SOUL audience first_seen\",\"month\", \"count\")"
   ]
  },
  {
   "cell_type": "code",
   "execution_count": 27,
   "id": "ecc36558",
   "metadata": {},
   "outputs": [
    {
     "data": {
      "text/html": [
       "<div>\n",
       "<style scoped>\n",
       "    .dataframe tbody tr th:only-of-type {\n",
       "        vertical-align: middle;\n",
       "    }\n",
       "\n",
       "    .dataframe tbody tr th {\n",
       "        vertical-align: top;\n",
       "    }\n",
       "\n",
       "    .dataframe thead th {\n",
       "        text-align: right;\n",
       "    }\n",
       "</style>\n",
       "<table border=\"1\" class=\"dataframe\">\n",
       "  <thead>\n",
       "    <tr style=\"text-align: right;\">\n",
       "      <th></th>\n",
       "      <th>uid</th>\n",
       "      <th>first_seen</th>\n",
       "      <th>last_seen</th>\n",
       "      <th>stream_count</th>\n",
       "      <th>comment_count</th>\n",
       "    </tr>\n",
       "  </thead>\n",
       "  <tbody>\n",
       "    <tr>\n",
       "      <th>209438780</th>\n",
       "      <td>209438780</td>\n",
       "      <td>2023-07-02</td>\n",
       "      <td>2023-07-06</td>\n",
       "      <td>12</td>\n",
       "      <td>29</td>\n",
       "    </tr>\n",
       "    <tr>\n",
       "      <th>417354</th>\n",
       "      <td>417354</td>\n",
       "      <td>2023-07-02</td>\n",
       "      <td>2023-07-06</td>\n",
       "      <td>12</td>\n",
       "      <td>495</td>\n",
       "    </tr>\n",
       "    <tr>\n",
       "      <th>37189997</th>\n",
       "      <td>37189997</td>\n",
       "      <td>2023-07-02</td>\n",
       "      <td>2023-07-06</td>\n",
       "      <td>11</td>\n",
       "      <td>88</td>\n",
       "    </tr>\n",
       "    <tr>\n",
       "      <th>16440429</th>\n",
       "      <td>16440429</td>\n",
       "      <td>2023-07-02</td>\n",
       "      <td>2023-07-06</td>\n",
       "      <td>15</td>\n",
       "      <td>128</td>\n",
       "    </tr>\n",
       "    <tr>\n",
       "      <th>3697058</th>\n",
       "      <td>3697058</td>\n",
       "      <td>2023-07-02</td>\n",
       "      <td>2023-07-06</td>\n",
       "      <td>17</td>\n",
       "      <td>195</td>\n",
       "    </tr>\n",
       "    <tr>\n",
       "      <th>...</th>\n",
       "      <td>...</td>\n",
       "      <td>...</td>\n",
       "      <td>...</td>\n",
       "      <td>...</td>\n",
       "      <td>...</td>\n",
       "    </tr>\n",
       "    <tr>\n",
       "      <th>19502677</th>\n",
       "      <td>19502677</td>\n",
       "      <td>2023-07-06</td>\n",
       "      <td>2023-07-06</td>\n",
       "      <td>10</td>\n",
       "      <td>11</td>\n",
       "    </tr>\n",
       "    <tr>\n",
       "      <th>160362320</th>\n",
       "      <td>160362320</td>\n",
       "      <td>2023-07-06</td>\n",
       "      <td>2023-07-06</td>\n",
       "      <td>10</td>\n",
       "      <td>13</td>\n",
       "    </tr>\n",
       "    <tr>\n",
       "      <th>6840143</th>\n",
       "      <td>6840143</td>\n",
       "      <td>2023-07-06</td>\n",
       "      <td>2023-07-06</td>\n",
       "      <td>10</td>\n",
       "      <td>72</td>\n",
       "    </tr>\n",
       "    <tr>\n",
       "      <th>11875466</th>\n",
       "      <td>11875466</td>\n",
       "      <td>2023-07-06</td>\n",
       "      <td>2023-07-06</td>\n",
       "      <td>13</td>\n",
       "      <td>61</td>\n",
       "    </tr>\n",
       "    <tr>\n",
       "      <th>285434135</th>\n",
       "      <td>285434135</td>\n",
       "      <td>2023-07-06</td>\n",
       "      <td>2023-07-06</td>\n",
       "      <td>10</td>\n",
       "      <td>19</td>\n",
       "    </tr>\n",
       "  </tbody>\n",
       "</table>\n",
       "<p>971 rows × 5 columns</p>\n",
       "</div>"
      ],
      "text/plain": [
       "                 uid first_seen  last_seen stream_count comment_count\n",
       "209438780  209438780 2023-07-02 2023-07-06           12            29\n",
       "417354        417354 2023-07-02 2023-07-06           12           495\n",
       "37189997    37189997 2023-07-02 2023-07-06           11            88\n",
       "16440429    16440429 2023-07-02 2023-07-06           15           128\n",
       "3697058      3697058 2023-07-02 2023-07-06           17           195\n",
       "...              ...        ...        ...          ...           ...\n",
       "19502677    19502677 2023-07-06 2023-07-06           10            11\n",
       "160362320  160362320 2023-07-06 2023-07-06           10            13\n",
       "6840143      6840143 2023-07-06 2023-07-06           10            72\n",
       "11875466    11875466 2023-07-06 2023-07-06           13            61\n",
       "285434135  285434135 2023-07-06 2023-07-06           10            19\n",
       "\n",
       "[971 rows x 5 columns]"
      ]
     },
     "execution_count": 27,
     "metadata": {},
     "output_type": "execute_result"
    }
   ],
   "source": [
    "audience[audience['first_seen']>= pd.Timestamp(2023, 7, 1, 0)]"
   ]
  },
  {
   "cell_type": "code",
   "execution_count": 28,
   "id": "2b5aacf6",
   "metadata": {},
   "outputs": [
    {
     "data": {
      "text/plain": [
       "{'first_seen': '2023.07.06',\n",
       " 'last_seen': '2023.07.06',\n",
       " 'stream_count': 4,\n",
       " 'comment_count': 4}"
      ]
     },
     "execution_count": 28,
     "metadata": {},
     "output_type": "execute_result"
    }
   ],
   "source": [
    "data['161711896']"
   ]
  },
  {
   "cell_type": "markdown",
   "id": "8a515b33",
   "metadata": {},
   "source": [
    "**数据有问题 需要大修**\n",
    "#### 3.1.1. A-SOUL观众入坑时间分析"
   ]
  },
  {
   "cell_type": "markdown",
   "id": "c79c0cec",
   "metadata": {},
   "source": [
    "#### 3.1.2. A-SOUL观众退坑时间分析"
   ]
  },
  {
   "cell_type": "markdown",
   "id": "020b2f42",
   "metadata": {},
   "source": [
    "#### 3.1.3. A-SOUL观众弹幕量分析"
   ]
  },
  {
   "cell_type": "markdown",
   "id": "ea55a9ba",
   "metadata": {},
   "source": [
    "#### 3.1.4. A-SOUL观众观看直播次数分析"
   ]
  },
  {
   "cell_type": "markdown",
   "id": "918ec371",
   "metadata": {},
   "source": [
    "### 3.2 510事件后退坑观众分析"
   ]
  },
  {
   "cell_type": "markdown",
   "id": "633116be",
   "metadata": {},
   "source": [
    "## 4. 结论"
   ]
  }
 ],
 "metadata": {
  "kernelspec": {
   "display_name": "Python 3 (ipykernel)",
   "language": "python",
   "name": "python3"
  },
  "language_info": {
   "codemirror_mode": {
    "name": "ipython",
    "version": 3
   },
   "file_extension": ".py",
   "mimetype": "text/x-python",
   "name": "python",
   "nbconvert_exporter": "python",
   "pygments_lexer": "ipython3",
   "version": "3.10.7"
  }
 },
 "nbformat": 4,
 "nbformat_minor": 5
}
