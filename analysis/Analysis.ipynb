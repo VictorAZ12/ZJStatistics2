{
 "cells": [
  {
   "cell_type": "markdown",
   "id": "e23c644b",
   "metadata": {},
   "source": [
    "# A-SOUL直播观众数据分析\n",
    "## 1. 介绍\n",
    "本Jupyter Notebok旨在对提取出来的用户弹幕数据进行统计分析，并制作数据可视化。\n",
    "## 2. 数据导入与预处理\n",
    "### 2.1 原始数据导入"
   ]
  },
  {
   "cell_type": "code",
   "execution_count": 4,
   "id": "1e64dc9d",
   "metadata": {},
   "outputs": [],
   "source": [
    "import json\n",
    "import os\n",
    "with open(\"./output.txt\") as f:\n",
    "    data = json.load(f)"
   ]
  },
  {
   "cell_type": "markdown",
   "id": "614ad325",
   "metadata": {},
   "source": [
    "### 2.2 数据预处理\n",
    "将json格式的数据转换为pandas dataframe，并输出为csv文件。"
   ]
  },
  {
   "cell_type": "code",
   "execution_count": null,
   "id": "80fa545e",
   "metadata": {},
   "outputs": [],
   "source": []
  },
  {
   "cell_type": "markdown",
   "id": "62b4c13b",
   "metadata": {},
   "source": [
    "## 3. 数据分析与可视化\n",
    "#### 3.1 A-SOUL观众整体分析"
   ]
  },
  {
   "cell_type": "markdown",
   "id": "8a515b33",
   "metadata": {},
   "source": [
    "#### 3.1.1. A-SOUL观众入坑时间分析"
   ]
  },
  {
   "cell_type": "markdown",
   "id": "c79c0cec",
   "metadata": {},
   "source": [
    "#### 3.1.2. A-SOUL观众退坑时间分析"
   ]
  },
  {
   "cell_type": "markdown",
   "id": "020b2f42",
   "metadata": {},
   "source": [
    "#### 3.1.3. A-SOUL观众弹幕量分析"
   ]
  },
  {
   "cell_type": "markdown",
   "id": "ea55a9ba",
   "metadata": {},
   "source": [
    "#### 3.1.4. A-SOUL观众观看直播次数分析"
   ]
  },
  {
   "cell_type": "markdown",
   "id": "918ec371",
   "metadata": {},
   "source": [
    "### 3.2 510事件后退坑观众分析"
   ]
  },
  {
   "cell_type": "markdown",
   "id": "633116be",
   "metadata": {},
   "source": [
    "## 4. 结论"
   ]
  }
 ],
 "metadata": {
  "kernelspec": {
   "display_name": "Python 3 (ipykernel)",
   "language": "python",
   "name": "python3"
  },
  "language_info": {
   "codemirror_mode": {
    "name": "ipython",
    "version": 3
   },
   "file_extension": ".py",
   "mimetype": "text/x-python",
   "name": "python",
   "nbconvert_exporter": "python",
   "pygments_lexer": "ipython3",
   "version": "3.10.7"
  }
 },
 "nbformat": 4,
 "nbformat_minor": 5
}
